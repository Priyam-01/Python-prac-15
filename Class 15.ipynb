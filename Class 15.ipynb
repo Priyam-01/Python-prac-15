{
 "cells": [
  {
   "cell_type": "code",
   "execution_count": null,
   "id": "4c7f9685",
   "metadata": {},
   "outputs": [],
   "source": [
    "#lambda function inline fuction"
   ]
  },
  {
   "cell_type": "code",
   "execution_count": 1,
   "id": "df118788",
   "metadata": {},
   "outputs": [
    {
     "name": "stdout",
     "output_type": "stream",
     "text": [
      "8\n"
     ]
    }
   ],
   "source": [
    "def test(a,b):\n",
    "    c = a+ b\n",
    "    return c\n",
    "d = test(5,3)\n",
    "print(d)"
   ]
  },
  {
   "cell_type": "code",
   "execution_count": 2,
   "id": "8367d8b1",
   "metadata": {},
   "outputs": [],
   "source": [
    "#using lambda"
   ]
  },
  {
   "cell_type": "code",
   "execution_count": 5,
   "id": "60da988c",
   "metadata": {
    "scrolled": true
   },
   "outputs": [
    {
     "data": {
      "text/plain": [
       "9"
      ]
     },
     "execution_count": 5,
     "metadata": {},
     "output_type": "execute_result"
    }
   ],
   "source": [
    "test = lambda a,b: a + b\n",
    "test(5,4)"
   ]
  },
  {
   "cell_type": "code",
   "execution_count": 9,
   "id": "f765ed0a",
   "metadata": {},
   "outputs": [],
   "source": [
    "def test(a,b):\n",
    "    l = []\n",
    "    for i in range(a,b):\n",
    "        if i % 2 == 0:\n",
    "            l.append(i)\n",
    "    return l"
   ]
  },
  {
   "cell_type": "code",
   "execution_count": 10,
   "id": "6f148c1f",
   "metadata": {},
   "outputs": [
    {
     "name": "stdout",
     "output_type": "stream",
     "text": [
      "[10, 12, 14, 16, 18]\n"
     ]
    }
   ],
   "source": [
    "a = test(10,20)\n",
    "print(a)"
   ]
  },
  {
   "cell_type": "code",
   "execution_count": 11,
   "id": "10a87dbd",
   "metadata": {},
   "outputs": [
    {
     "data": {
      "text/plain": [
       "[10, 12, 14, 16, 18]"
      ]
     },
     "execution_count": 11,
     "metadata": {},
     "output_type": "execute_result"
    }
   ],
   "source": [
    "test = lambda a,b: [i for i in range(a,b) if i %2 == 0]\n",
    "test(10,20)"
   ]
  },
  {
   "cell_type": "code",
   "execution_count": 12,
   "id": "95ed8e91",
   "metadata": {},
   "outputs": [],
   "source": [
    "#map filter reduce"
   ]
  },
  {
   "cell_type": "code",
   "execution_count": 17,
   "id": "9acdf676",
   "metadata": {},
   "outputs": [],
   "source": [
    "def test(a):\n",
    "    print(\"done\")\n",
    "    if a % 2 == 0:\n",
    "        return True\n",
    "    else:\n",
    "        return False\n",
    "    \n",
    "a = [1,2,3,4,5,6,7,8]\n",
    "a = filter(test,a)"
   ]
  },
  {
   "cell_type": "code",
   "execution_count": 18,
   "id": "efeb8fe7",
   "metadata": {},
   "outputs": [
    {
     "name": "stdout",
     "output_type": "stream",
     "text": [
      "done\n",
      "done\n",
      "done\n",
      "done\n",
      "done\n",
      "done\n",
      "done\n",
      "done\n"
     ]
    },
    {
     "data": {
      "text/plain": [
       "{2, 4, 6, 8}"
      ]
     },
     "execution_count": 18,
     "metadata": {},
     "output_type": "execute_result"
    }
   ],
   "source": [
    "set(a) # now executing filter function if we give this kind of input, tuple(a), list(a)"
   ]
  },
  {
   "cell_type": "code",
   "execution_count": 19,
   "id": "2fa7073b",
   "metadata": {},
   "outputs": [],
   "source": [
    "def test(a):\n",
    "    print(\"done\")\n",
    "    if a % 2 == 0:\n",
    "        return True\n",
    "    else:\n",
    "        return False\n",
    "    \n",
    "a = [1,2,3,4,5,6,7,8]\n",
    "a = map(test,a)"
   ]
  },
  {
   "cell_type": "code",
   "execution_count": 20,
   "id": "abb9abae",
   "metadata": {},
   "outputs": [
    {
     "name": "stdout",
     "output_type": "stream",
     "text": [
      "done\n",
      "done\n",
      "done\n",
      "done\n",
      "done\n",
      "done\n",
      "done\n",
      "done\n"
     ]
    },
    {
     "data": {
      "text/plain": [
       "[False, True, False, True, False, True, False, True]"
      ]
     },
     "execution_count": 20,
     "metadata": {},
     "output_type": "execute_result"
    }
   ],
   "source": [
    "list(a)"
   ]
  },
  {
   "cell_type": "code",
   "execution_count": 26,
   "id": "e4cf37e0",
   "metadata": {},
   "outputs": [
    {
     "data": {
      "text/plain": [
       "36"
      ]
     },
     "execution_count": 26,
     "metadata": {},
     "output_type": "execute_result"
    }
   ],
   "source": [
    "from functools import reduce\n",
    "\n",
    "def test(m, n):\n",
    "    return m + n\n",
    "    \n",
    "a = [1,2,3,4,5,6,7,8]\n",
    "\n",
    "reduce(test,a)"
   ]
  },
  {
   "cell_type": "code",
   "execution_count": 28,
   "id": "d0f90a18",
   "metadata": {},
   "outputs": [],
   "source": [
    "# #get input from user\n",
    "# if number is odd - 1\n",
    "# if number is even % 2"
   ]
  },
  {
   "cell_type": "code",
   "execution_count": 29,
   "id": "36c05b94",
   "metadata": {},
   "outputs": [],
   "source": [
    "# 11,\n",
    "# 11 - 1 = 10\n",
    "# 10/2 = 5\n",
    "# 5-1 = 4\n",
    "# 4/2 = 2\n",
    "# 2/2 = 0"
   ]
  },
  {
   "cell_type": "code",
   "execution_count": 30,
   "id": "af713a70",
   "metadata": {},
   "outputs": [
    {
     "name": "stdout",
     "output_type": "stream",
     "text": [
      "Enter any number: 5\n",
      "value of a is 4 Counter value is 1\n",
      "value of a is 2.0 Counter value is 2\n",
      "value of a is 1.0 Counter value is 3\n",
      "value of a is 0.0 Counter value is 4\n",
      "4\n"
     ]
    }
   ],
   "source": [
    "a = int(input(\"Enter any number: \"))\n",
    "\n",
    "counter = 0\n",
    "\n",
    "while a > 0:\n",
    "    \n",
    "    if a%2 ==1:\n",
    "        a = a-1\n",
    "    elif a%2 == 0:\n",
    "        a = a/2\n",
    "    counter = counter +1\n",
    "    print(\"value of a is\", a, \"Counter value is\", counter)\n",
    "    \n",
    "print(counter)"
   ]
  },
  {
   "cell_type": "code",
   "execution_count": null,
   "id": "e8976523",
   "metadata": {},
   "outputs": [],
   "source": []
  }
 ],
 "metadata": {
  "kernelspec": {
   "display_name": "Python 3 (ipykernel)",
   "language": "python",
   "name": "python3"
  },
  "language_info": {
   "codemirror_mode": {
    "name": "ipython",
    "version": 3
   },
   "file_extension": ".py",
   "mimetype": "text/x-python",
   "name": "python",
   "nbconvert_exporter": "python",
   "pygments_lexer": "ipython3",
   "version": "3.11.5"
  }
 },
 "nbformat": 4,
 "nbformat_minor": 5
}
